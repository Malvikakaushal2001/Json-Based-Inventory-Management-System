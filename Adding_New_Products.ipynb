{
  "nbformat": 4,
  "nbformat_minor": 0,
  "metadata": {
    "colab": {
      "name": "Adding New Products.ipynb",
      "provenance": [],
      "collapsed_sections": [
        "OjtSmpqCADgz",
        "sfh7WrbHVWDk",
        "p5OT-xI3u5GD"
      ]
    },
    "kernelspec": {
      "name": "python3",
      "display_name": "Python 3"
    },
    "language_info": {
      "name": "python"
    }
  },
  "cells": [
    {
      "cell_type": "markdown",
      "metadata": {
        "id": "OjtSmpqCADgz"
      },
      "source": [
        "# **Read Data From JSON**"
      ]
    },
    {
      "cell_type": "markdown",
      "metadata": {
        "id": "I0wpg4MLVeEH"
      },
      "source": [
        "**Importing Json**"
      ]
    },
    {
      "cell_type": "code",
      "metadata": {
        "id": "G2E5FWcZA3Ts"
      },
      "source": [
        "import json"
      ],
      "execution_count": 1,
      "outputs": []
    },
    {
      "cell_type": "code",
      "metadata": {
        "id": "3SvlKrdM_wUB"
      },
      "source": [
        "fd = open(\"Record.json\",'r')\n",
        "r = fd.read()\n",
        "fd.close()\n",
        "\n",
        "Record = json.loads(r)"
      ],
      "execution_count": 2,
      "outputs": []
    },
    {
      "cell_type": "markdown",
      "metadata": {
        "id": "KwVnIi8MVhhm"
      },
      "source": [
        "**Display of Record** "
      ]
    },
    {
      "cell_type": "code",
      "metadata": {
        "id": "g9z0uN56A_u-",
        "colab": {
          "base_uri": "https://localhost:8080/"
        },
        "outputId": "6926c098-f054-4a8d-c242-025f7a98499f"
      },
      "source": [
        "Record"
      ],
      "execution_count": 3,
      "outputs": [
        {
          "output_type": "execute_result",
          "data": {
            "text/plain": [
              "{'1001': {'name': 'Choco Cake', 'pr': 34, 'qn': 100},\n",
              " '1002': {'name': 'Milk Cake', 'pr': 800, 'qn': 100},\n",
              " '1003': {'name': 'Drink', 'pr': 85, 'qn': 100},\n",
              " '1004': {'name': 'Candy', 'pr': 5, 'qn': 1000},\n",
              " '1005': {'name': 'Pen', 'pr': 20, 'qn': 100},\n",
              " '1006': {'name': 'Phone', 'pr': 50000, 'qn': 10},\n",
              " '1007': {'name': 'Mic', 'pr': 1500, 'qn': 0},\n",
              " '1008': {'name': 'Case', 'pr': 599, 'qn': 5},\n",
              " '1009': {'name': 'Keyboard', 'pr': 1999, 'qn': 10},\n",
              " '1010': {'name': 'Monitor', 'pr': 20000, 'qr': 200},\n",
              " '1011': {'name': 'Speakers', 'pr': 5000, 'qr': 300},\n",
              " '1012': {'name': 'Bedsheet', 'pr': 1000, 'qr': 10},\n",
              " '1013': {'name': 'Mattress', 'pr': 40000, 'qr': 100},\n",
              " '1014': {'name': 'Laptop', 'pr': 100000, 'qr': 50},\n",
              " '1015': {'name': 'Key chain', 'pr': 20, 'qr': 2},\n",
              " '1016': {'name': 'Table', 'pr': 2000, 'qr': 50},\n",
              " '1017': {'name': 'Pepsi', 'pr': 50, 'qr': 20},\n",
              " '1018': {'name': 'Kurkure', 'pr': 15, 'qr': 40},\n",
              " '1019': {'name': 'Maggie', 'pr': 10, 'qr': 26},\n",
              " '1020': {'name': 'Motherboard', 'pr': 20000, 'qr': 2},\n",
              " '1021': {'name': 'Gorilla Glass', 'pr': 2000, 'qr': 75},\n",
              " '1022': {'name': 'Newspaper', 'pr': 4, 'qr': 100},\n",
              " '1023': {'name': 'earphone', 'pr': 1500, 'qr': 10},\n",
              " '1024': {'name': 'AC', 'pr': 40000, 'qr': 1},\n",
              " '1025': {'name': 'Heater', 'pr': 10000, 'qr': 20},\n",
              " '1026': {'name': 'Geyser', 'pr': 20000, 'qr': 30},\n",
              " '1027': {'name': 'Clock', 'pr': 300, 'qr': 30},\n",
              " '1028': {'name': 'Pen', 'pr': 20, 'qr': 300},\n",
              " '1029': {'name': 'Amazon Echo', 'pr': 20000, 'qr': 100},\n",
              " '1030': {'name': 'Pizza', 'pr': 100, 'qr': 20}}"
            ]
          },
          "metadata": {},
          "execution_count": 3
        }
      ]
    },
    {
      "cell_type": "markdown",
      "metadata": {
        "id": "sfh7WrbHVWDk"
      },
      "source": [
        "# **Add New Item into Inventory**"
      ]
    },
    {
      "cell_type": "markdown",
      "metadata": {
        "id": "YpSLNh4Wtuei"
      },
      "source": [
        "**Functionality**\n",
        "*   ***User can Input only Unique Product ID.***\n",
        "\n",
        "\n",
        "---\n",
        "*   ***If statement is used here for checking if Product Id is already there in the record.***\n",
        "\n",
        "\n",
        "\n",
        "\n",
        "\n",
        "\n",
        "\n",
        "\n",
        "\n",
        "\n",
        "\n",
        "\n",
        "\n"
      ]
    },
    {
      "cell_type": "code",
      "metadata": {
        "colab": {
          "base_uri": "https://localhost:8080/"
        },
        "id": "uvuaYEdkU9nn",
        "outputId": "0e6b5bce-136c-4139-a855-53d35c868cc9"
      },
      "source": [
        "prod_id = str(input(\"Enter Product ID : \"))\n",
        "nme = str(input(\"Enter Product Name : \"))\n",
        "price = int(input(\"Enter Price : \"))\n",
        "quan = int(input(\"Enter Quantity : \"))\n",
        "if (prod_id in Record.keys()):\n",
        "  print(\"It's already there in the Record.Please Run the cell Again\")\n",
        "else:\n",
        "  Record[prod_id] = {'name':nme, 'pr':price, 'qr':quan}\n",
        "  js = json.dumps(Record)\n",
        "  fd = open('Record.json','w')\n",
        "  fd.write(js)\n",
        "  fd.close()\n"
      ],
      "execution_count": 37,
      "outputs": [
        {
          "output_type": "stream",
          "name": "stdout",
          "text": [
            "Enter Product ID : 1001\n",
            "Enter Product Name : 5\n",
            "Enter Price : 4\n",
            "Enter Quantity : 5\n",
            "It's already there in the Record.Please Run the cell Again\n"
          ]
        }
      ]
    },
    {
      "cell_type": "markdown",
      "metadata": {
        "id": "p5OT-xI3u5GD"
      },
      "source": [
        "# **Deleting a cell**"
      ]
    },
    {
      "cell_type": "markdown",
      "metadata": {
        "id": "C6H80GUCxntl"
      },
      "source": [
        "**Functionality**\n",
        "* ***If product id is not there in Record.json, it won't delete and gives a message that No such item exists.***\n",
        "\n",
        "\n",
        "---\n",
        "*   ***If statement is used here for checking if Product Id is already there in the record.***"
      ]
    },
    {
      "cell_type": "code",
      "metadata": {
        "id": "NwpIBf5SZFCB",
        "colab": {
          "base_uri": "https://localhost:8080/"
        },
        "outputId": "2dd3b168-7cb0-4c87-c8a3-47a3c5f7c5a5"
      },
      "source": [
        "prod_id = str(input(\"Enter Product ID : \"))\n",
        "if (prod_id in Record.keys()):\n",
        "  del Record[prod_id]\n",
        "  print(\"Item deleted\")\n",
        "else:\n",
        "  print(\"No item exists\")"
      ],
      "execution_count": 34,
      "outputs": [
        {
          "output_type": "stream",
          "name": "stdout",
          "text": [
            "Enter Product ID : 85216\n",
            "No item exists\n"
          ]
        }
      ]
    },
    {
      "cell_type": "code",
      "metadata": {
        "colab": {
          "base_uri": "https://localhost:8080/"
        },
        "id": "dK4RyUciZKKz",
        "outputId": "49f2cc58-bc7b-4e3b-bfc7-39eb4809658b"
      },
      "source": [
        "Record"
      ],
      "execution_count": 32,
      "outputs": [
        {
          "output_type": "execute_result",
          "data": {
            "text/plain": [
              "{'1001': {'name': 'Choco Cake', 'pr': 34, 'qr': 100},\n",
              " '1002': {'name': 'Milk Cake', 'pr': 800, 'qn': 100},\n",
              " '1003': {'name': 'Drink', 'pr': 85, 'qn': 100},\n",
              " '1004': {'name': 'Candy', 'pr': 5, 'qn': 1000},\n",
              " '1005': {'name': 'Pen', 'pr': 20, 'qn': 100},\n",
              " '1006': {'name': 'Phone', 'pr': 50000, 'qn': 10},\n",
              " '1007': {'name': 'Mic', 'pr': 1500, 'qn': 0},\n",
              " '1008': {'name': 'Case', 'pr': 599, 'qn': 5},\n",
              " '1009': {'name': 'Keyboard', 'pr': 1999, 'qn': 10},\n",
              " '1010': {'name': 'Monitor', 'pr': 20000, 'qr': 200},\n",
              " '1011': {'name': 'Speakers', 'pr': 5000, 'qr': 300},\n",
              " '1012': {'name': 'Bedsheet', 'pr': 1000, 'qr': 10},\n",
              " '1013': {'name': 'Mattress', 'pr': 40000, 'qr': 100},\n",
              " '1014': {'name': 'Laptop', 'pr': 100000, 'qr': 50},\n",
              " '1015': {'name': 'Key chain', 'pr': 20, 'qr': 2},\n",
              " '1016': {'name': 'Table', 'pr': 2000, 'qr': 50},\n",
              " '1017': {'name': 'Pepsi', 'pr': 50, 'qr': 20},\n",
              " '1018': {'name': 'Kurkure', 'pr': 15, 'qr': 40},\n",
              " '1019': {'name': 'Maggie', 'pr': 10, 'qr': 26},\n",
              " '1020': {'name': 'Motherboard', 'pr': 20000, 'qr': 2},\n",
              " '1021': {'name': 'Gorilla Glass', 'pr': 2000, 'qr': 75},\n",
              " '1022': {'name': 'Newspaper', 'pr': 4, 'qr': 100},\n",
              " '1023': {'name': 'earphone', 'pr': 1500, 'qr': 10},\n",
              " '1024': {'name': 'AC', 'pr': 40000, 'qr': 1},\n",
              " '1025': {'name': 'Heater', 'pr': 10000, 'qr': 20},\n",
              " '1026': {'name': 'Geyser', 'pr': 20000, 'qr': 30},\n",
              " '1027': {'name': 'Clock', 'pr': 300, 'qr': 30},\n",
              " '1028': {'name': 'Pen', 'pr': 20, 'qr': 300},\n",
              " '1029': {'name': 'Amazon Echo', 'pr': 20000, 'qr': 100},\n",
              " '1030': {'name': 'pizza', 'pr': 100, 'qr': 20}}"
            ]
          },
          "metadata": {},
          "execution_count": 32
        }
      ]
    }
  ]
}