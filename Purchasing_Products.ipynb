{
  "nbformat": 4,
  "nbformat_minor": 0,
  "metadata": {
    "colab": {
      "name": "Purchasing Products.ipynb",
      "provenance": []
    },
    "kernelspec": {
      "name": "python3",
      "display_name": "Python 3"
    },
    "language_info": {
      "name": "python"
    }
  },
  "cells": [
    {
      "cell_type": "markdown",
      "metadata": {
        "id": "-0XDzy8G2pTk"
      },
      "source": [
        "# **Read Data From JSON**"
      ]
    },
    {
      "cell_type": "markdown",
      "metadata": {
        "id": "Qnz7X68N2rsA"
      },
      "source": [
        "**Importing JSON**"
      ]
    },
    {
      "cell_type": "code",
      "metadata": {
        "id": "rM2HVc9900Pw"
      },
      "source": [
        "import json"
      ],
      "execution_count": 1,
      "outputs": []
    },
    {
      "cell_type": "code",
      "metadata": {
        "id": "12o-ugYt27SZ"
      },
      "source": [
        "fd = open(\"Record.json\",'r')\n",
        "r = fd.read()\n",
        "fd.close()\n",
        "\n",
        "Record = json.loads(r)"
      ],
      "execution_count": 2,
      "outputs": []
    },
    {
      "cell_type": "code",
      "metadata": {
        "colab": {
          "base_uri": "https://localhost:8080/"
        },
        "id": "C2K4f9C-3Ero",
        "outputId": "c01142ab-a49c-4d09-a1ff-4a7bbcf322f7"
      },
      "source": [
        "Record"
      ],
      "execution_count": 3,
      "outputs": [
        {
          "output_type": "execute_result",
          "data": {
            "text/plain": [
              "{'1001': {'name': 'Choco Cake', 'pr': 34, 'qn': 100},\n",
              " '1002': {'name': 'Milk Cake', 'pr': 800, 'qn': 100},\n",
              " '1003': {'name': 'Drink', 'pr': 85, 'qn': 100},\n",
              " '1004': {'name': 'Candy', 'pr': 5, 'qn': 1000},\n",
              " '1005': {'name': 'Pen', 'pr': 20, 'qn': 100},\n",
              " '1006': {'name': 'Phone', 'pr': 50000, 'qn': 10},\n",
              " '1007': {'name': 'Mic', 'pr': 1500, 'qn': 0},\n",
              " '1008': {'name': 'Case', 'pr': 599, 'qn': 5},\n",
              " '1009': {'name': 'Keyboard', 'pr': 1999, 'qn': 10},\n",
              " '1010': {'name': 'Monitor', 'pr': 20000, 'qr': 200},\n",
              " '1011': {'name': 'Speakers', 'pr': 5000, 'qr': 300},\n",
              " '1012': {'name': 'Bedsheet', 'pr': 1000, 'qr': 10},\n",
              " '1013': {'name': 'Mattress', 'pr': 40000, 'qr': 100},\n",
              " '1014': {'name': 'Laptop', 'pr': 100000, 'qr': 50},\n",
              " '1015': {'name': 'Key chain', 'pr': 20, 'qr': 2},\n",
              " '1016': {'name': 'Table', 'pr': 2000, 'qr': 50},\n",
              " '1017': {'name': 'Pepsi', 'pr': 50, 'qr': 20},\n",
              " '1018': {'name': 'Kurkure', 'pr': 15, 'qr': 40},\n",
              " '1019': {'name': 'Maggie', 'pr': 10, 'qr': 26},\n",
              " '1020': {'name': 'Motherboard', 'pr': 20000, 'qr': 2},\n",
              " '1021': {'name': 'Gorilla Glass', 'pr': 2000, 'qr': 75},\n",
              " '1022': {'name': 'Newspaper', 'pr': 4, 'qr': 100},\n",
              " '1023': {'name': 'earphone', 'pr': 1500, 'qr': 10},\n",
              " '1024': {'name': 'AC', 'pr': 40000, 'qr': 1},\n",
              " '1025': {'name': 'Heater', 'pr': 10000, 'qr': 20},\n",
              " '1026': {'name': 'Geyser', 'pr': 20000, 'qr': 30},\n",
              " '1027': {'name': 'Clock', 'pr': 300, 'qr': 30},\n",
              " '1028': {'name': 'Pen', 'pr': 20, 'qr': 300},\n",
              " '1029': {'name': 'Amazon Echo', 'pr': 20000, 'qr': 100},\n",
              " '1030': {'name': 'Pizza', 'pr': 100, 'qr': 20}}"
            ]
          },
          "metadata": {},
          "execution_count": 3
        }
      ]
    },
    {
      "cell_type": "markdown",
      "metadata": {
        "id": "hYlS5IPH313F"
      },
      "source": [
        "# **Purchase**"
      ]
    },
    {
      "cell_type": "markdown",
      "metadata": {
        "id": "JeU5CaaVDjU9"
      },
      "source": [
        "**Functionality**\n",
        "*   ***User can Input only Unique Product ID.***\n",
        "*   **Checks if the quantity entered is exceeding than the one mentioned in Record.json** \n",
        "\n",
        "\n",
        "\n",
        "\n",
        "\n",
        "---\n",
        "*   ***If statement is used here for checking if Product Id is already there in the record.***\n",
        "*  ***Elif is used here for checking if entered quantity is exceeding. If it exceeds then it gives a message Your Entered Quantity exceeds than Record Quantity***\n",
        "\n",
        "\n",
        "\n"
      ]
    },
    {
      "cell_type": "code",
      "metadata": {
        "colab": {
          "base_uri": "https://localhost:8080/"
        },
        "id": "jpSBLW9H349n",
        "outputId": "bdf4f0a2-ef9e-477c-eb02-3237e499ba43"
      },
      "source": [
        "ui_prod  = str(input(\"Enter the product_Id: \"))\n",
        "ui_quant = int(input(\"Enter the quantity: \"))\n",
        "\n",
        "if (ui_prod not in Record.keys()):\n",
        "\n",
        "  print(\"Sorry,You entered wrong ID.\")\n",
        "\n",
        "elif (ui_quant > Record[ui_prod]['qn']):\n",
        "\n",
        "  print(\"Your Entered Quantity exceeds than Record Quantity\")\n",
        "\n",
        "else:\n",
        "  print(\"----------------------------------------------------\")\n",
        "  print(\"Product: \", Record[ui_prod]['name'])\n",
        "  print(\"Price: \", Record[ui_prod]['pr'])\n",
        "  print(\"----------------------------------------------------\")\n",
        "  print(\"Billing Amount: \", Record[ui_prod]['pr'] * ui_quant)\n",
        "\n",
        "  Record[ui_prod]['qn'] = Record[ui_prod]['qn'] - ui_quant\n",
        "\n"
      ],
      "execution_count": 10,
      "outputs": [
        {
          "output_type": "stream",
          "name": "stdout",
          "text": [
            "Enter the product_Id: 1001\n",
            "Enter the quantity: 1\n",
            "----------------------------------------------------\n",
            "Product:  Choco Cake\n",
            "Price:  34\n",
            "----------------------------------------------------\n",
            "Billing Amount:  34\n"
          ]
        }
      ]
    },
    {
      "cell_type": "markdown",
      "metadata": {
        "id": "QzhofXDlCL-u"
      },
      "source": [
        "#**Update Inventory After Purchase**"
      ]
    },
    {
      "cell_type": "code",
      "metadata": {
        "id": "1uahFnjACRtZ"
      },
      "source": [
        "js = json.dumps(Record)\n",
        "\n",
        "fd = open(\"Record.json\",'w')\n",
        "fd.write(js)\n",
        "fd.close()"
      ],
      "execution_count": 11,
      "outputs": []
    },
    {
      "cell_type": "code",
      "metadata": {
        "colab": {
          "base_uri": "https://localhost:8080/"
        },
        "id": "fYmdyztzDGoz",
        "outputId": "0d5e82ea-cdde-447a-d575-6a259ca77713"
      },
      "source": [
        "Record"
      ],
      "execution_count": 12,
      "outputs": [
        {
          "output_type": "execute_result",
          "data": {
            "text/plain": [
              "{'1001': {'name': 'Choco Cake', 'pr': 34, 'qn': 93},\n",
              " '1002': {'name': 'Milk Cake', 'pr': 800, 'qn': 100},\n",
              " '1003': {'name': 'Drink', 'pr': 85, 'qn': 100},\n",
              " '1004': {'name': 'Candy', 'pr': 5, 'qn': 1000},\n",
              " '1005': {'name': 'Pen', 'pr': 20, 'qn': 100},\n",
              " '1006': {'name': 'Phone', 'pr': 50000, 'qn': 10},\n",
              " '1007': {'name': 'Mic', 'pr': 1500, 'qn': 0},\n",
              " '1008': {'name': 'Case', 'pr': 599, 'qn': 5},\n",
              " '1009': {'name': 'Keyboard', 'pr': 1999, 'qn': 10},\n",
              " '1010': {'name': 'Monitor', 'pr': 20000, 'qr': 200},\n",
              " '1011': {'name': 'Speakers', 'pr': 5000, 'qr': 300},\n",
              " '1012': {'name': 'Bedsheet', 'pr': 1000, 'qr': 10},\n",
              " '1013': {'name': 'Mattress', 'pr': 40000, 'qr': 100},\n",
              " '1014': {'name': 'Laptop', 'pr': 100000, 'qr': 50},\n",
              " '1015': {'name': 'Key chain', 'pr': 20, 'qr': 2},\n",
              " '1016': {'name': 'Table', 'pr': 2000, 'qr': 50},\n",
              " '1017': {'name': 'Pepsi', 'pr': 50, 'qr': 20},\n",
              " '1018': {'name': 'Kurkure', 'pr': 15, 'qr': 40},\n",
              " '1019': {'name': 'Maggie', 'pr': 10, 'qr': 26},\n",
              " '1020': {'name': 'Motherboard', 'pr': 20000, 'qr': 2},\n",
              " '1021': {'name': 'Gorilla Glass', 'pr': 2000, 'qr': 75},\n",
              " '1022': {'name': 'Newspaper', 'pr': 4, 'qr': 100},\n",
              " '1023': {'name': 'earphone', 'pr': 1500, 'qr': 10},\n",
              " '1024': {'name': 'AC', 'pr': 40000, 'qr': 1},\n",
              " '1025': {'name': 'Heater', 'pr': 10000, 'qr': 20},\n",
              " '1026': {'name': 'Geyser', 'pr': 20000, 'qr': 30},\n",
              " '1027': {'name': 'Clock', 'pr': 300, 'qr': 30},\n",
              " '1028': {'name': 'Pen', 'pr': 20, 'qr': 300},\n",
              " '1029': {'name': 'Amazon Echo', 'pr': 20000, 'qr': 100},\n",
              " '1030': {'name': 'Pizza', 'pr': 100, 'qr': 20}}"
            ]
          },
          "metadata": {},
          "execution_count": 12
        }
      ]
    }
  ]
}